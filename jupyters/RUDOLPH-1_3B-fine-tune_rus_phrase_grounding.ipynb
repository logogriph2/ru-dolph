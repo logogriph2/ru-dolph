{
 "cells": [
  {
   "cell_type": "code",
   "execution_count": null,
   "metadata": {},
   "outputs": [],
   "source": [
    "!pip install rudolph==0.0.1rc10 "
   ]
  },
  {
   "cell_type": "code",
   "execution_count": 275,
   "metadata": {},
   "outputs": [],
   "source": [
    "import torch\n",
    "from rudalle import get_vae\n",
    "from rudalle.utils import seed_everything\n",
    "\n",
    "import sys\n",
    "sys.path.insert(0, 'ru-dolph')\n",
    "\n",
    "import os\n",
    "from glob import glob\n",
    "from os.path import join\n",
    "from datetime import datetime\n",
    "\n",
    "import torch\n",
    "#import bitsandbytes as bnb\n",
    "from torch.utils.data import Dataset, DataLoader\n",
    "import torchvision\n",
    "import transformers\n",
    "import more_itertools\n",
    "import numpy as np\n",
    "import json\n",
    "from PIL import Image, ImageDraw\n",
    "import torch.nn.functional as F\n",
    "import matplotlib.pyplot as plt\n",
    "import torchvision.transforms as T\n",
    "import torchvision.transforms.functional as TF\n",
    "from tqdm.auto import tqdm\n",
    "from einops import rearrange\n",
    "import youtokentome as yttm\n",
    "\n",
    "import torchvision\n",
    "from rudalle.image_prompts import ImagePrompts\n",
    "from rudolph.model import get_rudolph_model, ruDolphModel, FP16Module\n",
    "from rudolph import utils\n",
    "from rudolph.model.utils import get_attention_mask\n",
    "from rudalle import get_tokenizer, get_vae\n",
    "from rudolph.api import ruDolphApi\n",
    "\n",
    "import datasets\n",
    "import random"
   ]
  },
  {
   "cell_type": "code",
   "execution_count": 207,
   "metadata": {},
   "outputs": [],
   "source": [
    "import matplotlib.pyplot as plt"
   ]
  },
  {
   "cell_type": "code",
   "execution_count": 195,
   "metadata": {},
   "outputs": [],
   "source": [
    "device = 'cuda'"
   ]
  },
  {
   "cell_type": "code",
   "execution_count": 196,
   "metadata": {},
   "outputs": [],
   "source": [
    "model = get_rudolph_model('1.3B', pretrained=True, fp16=True, device='cuda', cache_dir=r'D:\\AIRI\\ru-dolph\\cached_models\\rudolph')"
   ]
  },
  {
   "cell_type": "code",
   "execution_count": 197,
   "metadata": {},
   "outputs": [
    {
     "name": "stdout",
     "output_type": "stream",
     "text": [
      "tokenizer --> ready\n",
      "Working with z of shape (1, 256, 32, 32) = 262144 dimensions.\n",
      "vae --> ready\n"
     ]
    }
   ],
   "source": [
    "tokenizer = get_tokenizer()\n",
    "vae = get_vae(dwt=False).to(device)"
   ]
  },
  {
   "cell_type": "code",
   "execution_count": 198,
   "metadata": {},
   "outputs": [],
   "source": [
    "class Args():\n",
    "    def __init__(self, model, checkpoint_path):\n",
    "        self.device = model.get_param('device')\n",
    "        self.l_text_seq_length = model.get_param('l_text_seq_length')\n",
    "        self.r_text_seq_length = model.get_param('r_text_seq_length')\n",
    "        self.image_tokens_per_dim = model.get_param('image_tokens_per_dim')\n",
    "        self.image_seq_length = model.get_param('image_seq_length')\n",
    "        self.epochs = 1\n",
    "        self.save_path= checkpoint_path\n",
    "        self.model_name = 'rudolph_sberquad_'\n",
    "        self.save_every = 1000\n",
    "        self.bs = 4\n",
    "        self.clip = 1.0\n",
    "        self.lr = 2e-5\n",
    "        self.wandb = False\n",
    "        self.lt_loss_weight = 0.01\n",
    "        self.img_loss_weight = 0.01\n",
    "        self.rt_loss_weight = 7\n",
    "        self.bin_size = 8\n",
    "        self.image_size = self.image_tokens_per_dim * self.bin_size\n",
    "        \n",
    "checkpoint_path = './model/checkpoints/'\n",
    "args = Args(model, checkpoint_path)\n",
    "if not os.path.exists(args.save_path):\n",
    "    os.makedirs(args.save_path)"
   ]
  },
  {
   "cell_type": "code",
   "execution_count": 199,
   "metadata": {},
   "outputs": [
    {
     "name": "stdout",
     "output_type": "stream",
     "text": [
      "args.image_seq_length 1024\n"
     ]
    }
   ],
   "source": [
    "print('args.image_seq_length',args.image_seq_length)"
   ]
  },
  {
   "cell_type": "code",
   "execution_count": 200,
   "metadata": {},
   "outputs": [],
   "source": [
    "SPC_TOKENS = {\n",
    "    '<LT_UNK>': 16384,\n",
    "    '<RT_UNK>': 16385,\n",
    "    '<LT_T2I>': 16386,\n",
    "    '<LT_I2T>': 16387,\n",
    "    '<LT_T2T>': 16388,\n",
    "    '<RT_I2T>': 16389,\n",
    "    \n",
    "    '<LT_TQA>': 16390,\n",
    "    '<RT_TQA>': 16391,\n",
    "    '<LT_PG>': 16392,\n",
    "    '<RT_PG>': 16393,\n",
    "}"
   ]
  },
  {
   "cell_type": "markdown",
   "metadata": {},
   "source": [
    "Добавляем локализационные токены"
   ]
  },
  {
   "cell_type": "code",
   "execution_count": 201,
   "metadata": {},
   "outputs": [],
   "source": [
    "for n in range(args.image_tokens_per_dim):\n",
    "    n_token = SPC_TOKENS['<RT_PG>']+1+n\n",
    "    SPC_TOKENS['<RT_PG'+str(n)+'>'] = n_token"
   ]
  },
  {
   "cell_type": "code",
   "execution_count": 202,
   "metadata": {},
   "outputs": [
    {
     "name": "stdout",
     "output_type": "stream",
     "text": [
      "{'<LT_UNK>': 16384, '<RT_UNK>': 16385, '<LT_T2I>': 16386, '<LT_I2T>': 16387, '<LT_T2T>': 16388, '<RT_I2T>': 16389, '<LT_TQA>': 16390, '<RT_TQA>': 16391, '<LT_PG>': 16392, '<RT_PG>': 16393, '<RT_PG0>': 16394, '<RT_PG1>': 16395, '<RT_PG2>': 16396, '<RT_PG3>': 16397, '<RT_PG4>': 16398, '<RT_PG5>': 16399, '<RT_PG6>': 16400, '<RT_PG7>': 16401, '<RT_PG8>': 16402, '<RT_PG9>': 16403, '<RT_PG10>': 16404, '<RT_PG11>': 16405, '<RT_PG12>': 16406, '<RT_PG13>': 16407, '<RT_PG14>': 16408, '<RT_PG15>': 16409, '<RT_PG16>': 16410, '<RT_PG17>': 16411, '<RT_PG18>': 16412, '<RT_PG19>': 16413, '<RT_PG20>': 16414, '<RT_PG21>': 16415, '<RT_PG22>': 16416, '<RT_PG23>': 16417, '<RT_PG24>': 16418, '<RT_PG25>': 16419, '<RT_PG26>': 16420, '<RT_PG27>': 16421, '<RT_PG28>': 16422, '<RT_PG29>': 16423, '<RT_PG30>': 16424, '<RT_PG31>': 16425}\n"
     ]
    }
   ],
   "source": [
    "print(SPC_TOKENS)"
   ]
  },
  {
   "cell_type": "code",
   "execution_count": 203,
   "metadata": {},
   "outputs": [
    {
     "data": {
      "text/plain": [
       "<torch._C.Generator at 0x2626f470d30>"
      ]
     },
     "execution_count": 203,
     "metadata": {},
     "output_type": "execute_result"
    }
   ],
   "source": [
    "torch.manual_seed(42)"
   ]
  },
  {
   "cell_type": "markdown",
   "metadata": {},
   "source": [
    "добавляем правый и нижний паддинги и ресайзим до 256x256, чтобы на выходе vae получить последовательность длины 1024"
   ]
  },
  {
   "cell_type": "code",
   "execution_count": 276,
   "metadata": {},
   "outputs": [],
   "source": [
    "class RightDownPad:\n",
    "    def __call__(self, image):\n",
    "        _, h, w = image.size()\n",
    "        max_wh = max(w, h)\n",
    "        hp = int(max_wh - w)\n",
    "        vp = int(max_wh - h)\n",
    "        padding = [0, 0, hp, vp]\n",
    "        return TF.pad(image, padding)\n",
    "    \n",
    "image_transform = T.Compose([\n",
    "    T.Lambda(lambda img: img.convert('RGB') if img.mode != 'RGB' else img),\n",
    "    T.ToTensor(),\n",
    "    RightDownPad(),\n",
    "    T.Resize((args.image_size, args.image_size))\n",
    "    ])"
   ]
  },
  {
   "cell_type": "code",
   "execution_count": 284,
   "metadata": {},
   "outputs": [],
   "source": [
    "class VisualGenomeDataset(Dataset):\n",
    "    spc_id = -1\n",
    "    \n",
    "    def __init__(self, annotation_path, images_root, image_transform, tokenizer, args):\n",
    "        self.tokenizer = tokenizer\n",
    "        self.args = args\n",
    "        \n",
    "        self.spc_tokens = SPC_TOKENS\n",
    "        self.n_bins = self.args.image_tokens_per_dim\n",
    "        self.bin_size = self.args.bin_size\n",
    "        self.image_size = self.args.image_size\n",
    "        \n",
    "        self.image_transform = image_transform\n",
    "        self.images_root = images_root\n",
    "        with open(annotation_path, 'rb') as fj:\n",
    "            annotation = json.load(fj)\n",
    "\n",
    "        self.images = []\n",
    "        self.bboxs = []\n",
    "        self.phrases = []\n",
    "\n",
    "        for image_name in annotation.keys():\n",
    "            ann_img = annotation[image_name]\n",
    "            for phrase in ann_img.keys():\n",
    "                self.phrases.append(phrase)\n",
    "                self.images.append(image_name)\n",
    "                self.bboxs.append(ann_img[phrase][0])\n",
    "        \n",
    "    def __len__(self):\n",
    "        return len(self.phrases)\n",
    "    \n",
    "    def encode_text(self, text, text_seq_length, add_special = True):\n",
    "        tokens = self.tokenizer.tokenizer.encode([text], output_type=yttm.OutputType.ID)[0]\n",
    "        bos = [self.tokenizer.bos_id]\n",
    "        if add_special:\n",
    "            bos.append(self.spc_id)\n",
    "        tokens = bos + tokens + [self.tokenizer.eos_id]\n",
    "        return self.tokenizer.prepare_tokens(tokens, text_seq_length)\n",
    "    \n",
    "    def resize_and_encode_bbox(self, bbox, img_size):\n",
    "        bbox_x0 = bbox[0]\n",
    "        bbox_y0 = bbox[1]\n",
    "        bbox_x1 = bbox_x0+bbox[2]\n",
    "        bbox_y1 = bbox_y0+bbox[3]\n",
    "        \n",
    "        img_w = img_size[0]\n",
    "        img_h = img_size[1]\n",
    "        \n",
    "        max_wh = max(img_w,img_h)\n",
    "\n",
    "        resized_x0 = int(bbox_x0*image_size/max_wh)\n",
    "        resized_y0 = int(bbox_y0*image_size/max_wh)\n",
    "        resized_x1 = int(bbox_x1*image_size/max_wh)\n",
    "        resized_y1 = int(bbox_y1*image_size/max_wh)\n",
    "        \n",
    "        \n",
    "        bbox_x0_bin = resized_x0//self.bin_size\n",
    "        bbox_y0_bin = resized_y0//self.bin_size\n",
    "        bbox_x1_bin = resized_x1//self.bin_size\n",
    "        bbox_y1_bin = resized_y1//self.bin_size\n",
    "        \n",
    "        new_bbox_tokens = [self.tokenizer.bos_id] + \\\n",
    "                            [SPC_TOKENS['<RT_PG'+str(bbox_x0_bin)+'>'],\n",
    "                           SPC_TOKENS['<RT_PG'+str(bbox_y0_bin)+'>'],\n",
    "                           SPC_TOKENS['<RT_PG'+str(bbox_x1_bin)+'>'],\n",
    "                           SPC_TOKENS['<RT_PG'+str(bbox_y1_bin)+'>']]\n",
    "        new_bbox_tokens += [0]*(self.args.l_text_seq_length-5)\n",
    "        \n",
    "        return torch.Tensor(new_bbox_tokens)\n",
    "    \n",
    "    def load_image(self, image_name: str) -> Image.Image:\n",
    "        return Image.open(os.path.join(self.images_root, image_name)).convert(\"RGB\")\n",
    "   \n",
    "    def __getitem__(self, item):\n",
    "        \n",
    "        left_text = self.phrases[item]\n",
    "        \n",
    "        left_special_token = '<LT_PG>'\n",
    "        right_special_token = '<RT_PG>'\n",
    "        \n",
    "        left_text = left_text.lower().strip()\n",
    "        left_encoded_text = self.encode_text(left_text, text_seq_length=self.args.l_text_seq_length)\n",
    "        left_encoded_text[torch.where(left_encoded_text == self.spc_id)] = self.spc_tokens[left_special_token]\n",
    "\n",
    "        pil_img = self.load_image(self.images[item])\n",
    "        pil_img_size = pil_img.size\n",
    "        \n",
    "        right_encoded_text = self.resize_and_encode_bbox(self.bboxs[item], img_size=pil_img_size)\n",
    "        \n",
    "        img = self.image_transform(pil_img)\n",
    "        \n",
    "        return left_encoded_text, img, right_encoded_text"
   ]
  },
  {
   "cell_type": "code",
   "execution_count": 206,
   "metadata": {},
   "outputs": [],
   "source": [
    "def freeze(\n",
    "    model,\n",
    "    freeze_emb=False,\n",
    "    freeze_ln=False,\n",
    "    freeze_attn=True,\n",
    "    freeze_ff=True,\n",
    "    freeze_other=False,\n",
    "):\n",
    "    for name, p in model.module.named_parameters():\n",
    "        name = name.lower()\n",
    "        if 'ln' in name or 'norm' in name:\n",
    "            p.requires_grad = not freeze_ln\n",
    "        elif 'embeddings' in name:\n",
    "            p.requires_grad = not freeze_emb\n",
    "        elif 'mlp' in name:\n",
    "            p.requires_grad = not freeze_ff\n",
    "        elif 'attn' in name:\n",
    "            p.requires_grad = not freeze_attn\n",
    "        else:\n",
    "            p.requires_grad = not freeze_other\n",
    "    return model"
   ]
  },
  {
   "cell_type": "code",
   "execution_count": 81,
   "metadata": {},
   "outputs": [
    {
     "name": "stdout",
     "output_type": "stream",
     "text": [
      "256\n"
     ]
    }
   ],
   "source": [
    "image_size = args.image_tokens_per_dim * 8\n",
    "print(image_size)\n",
    "image_transform = T.Compose([\n",
    "            T.Lambda(lambda img: img.convert('RGB') if img.mode != 'RGB' else img),\n",
    "            T.Resize((image_size, image_size)),\n",
    "            T.ToTensor()\n",
    "        ])"
   ]
  },
  {
   "cell_type": "code",
   "execution_count": null,
   "metadata": {},
   "outputs": [],
   "source": [
    "#wget annotation_path\n",
    "#wget images_root"
   ]
  },
  {
   "cell_type": "code",
   "execution_count": 227,
   "metadata": {},
   "outputs": [],
   "source": [
    "images_root = r'D:\\AIRI\\fusion_brain_data\\visual_genome'\n",
    "annotation_path = r'D:\\AIRI\\fusion_brain_data\\vg_intersection_rus.json'"
   ]
  },
  {
   "cell_type": "code",
   "execution_count": 285,
   "metadata": {},
   "outputs": [],
   "source": [
    "dataset_pg = VisualGenomeDataset(annotation_path, images_root, args = args, image_transform=image_transform, tokenizer=tokenizer)"
   ]
  },
  {
   "cell_type": "code",
   "execution_count": 286,
   "metadata": {},
   "outputs": [],
   "source": [
    "sample_loader = DataLoader(dataset_pg, batch_size=1, shuffle=True, drop_last=True)"
   ]
  },
  {
   "cell_type": "markdown",
   "metadata": {},
   "source": [
    "Посмотреть семпл и рамки"
   ]
  },
  {
   "cell_type": "code",
   "execution_count": 287,
   "metadata": {},
   "outputs": [],
   "source": [
    "encoded_left_text, image, encoded_right_text = next(iter(sample_loader))"
   ]
  },
  {
   "cell_type": "code",
   "execution_count": 288,
   "metadata": {},
   "outputs": [
    {
     "data": {
      "text/plain": [
       "<matplotlib.image.AxesImage at 0x2622ff51488>"
      ]
     },
     "execution_count": 288,
     "metadata": {},
     "output_type": "execute_result"
    },
    {
     "data": {
      "image/png": "[encoded data removed]",
      "text/plain": [
       "<Figure size 432x288 with 1 Axes>"
      ]
     },
     "metadata": {
      "needs_background": "light"
     },
     "output_type": "display_data"
    }
   ],
   "source": [
    "img_np = image[0].permute(1,2,0).numpy()*255\n",
    "pil_img = Image.fromarray(img_np.astype(np.uint8))\n",
    "t_draw = ImageDraw.Draw(pil_img)\n",
    "\n",
    "bin_box_x0 = encoded_right_text[0][1]-SPC_TOKENS['<RT_PG>']-1\n",
    "bin_box_y0 = encoded_right_text[0][2]-SPC_TOKENS['<RT_PG>']-1\n",
    "bin_box_x1 = encoded_right_text[0][3]-SPC_TOKENS['<RT_PG>']-1\n",
    "bin_box_y1 = encoded_right_text[0][4]-SPC_TOKENS['<RT_PG>']-1\n",
    "\n",
    "t_draw.rectangle((args.bin_size*bin_box_x0, args.bin_size*bin_box_y0, args.bin_size*bin_box_x1, args.bin_size*bin_box_y1),\n",
    "                 outline=255)\n",
    "plt.imshow(pil_img)"
   ]
  },
  {
   "cell_type": "code",
   "execution_count": 291,
   "metadata": {},
   "outputs": [],
   "source": [
    "train_dataloader = DataLoader(dataset_pg, batch_size=args.bs, shuffle=True, drop_last=True)"
   ]
  },
  {
   "cell_type": "code",
   "execution_count": 90,
   "metadata": {},
   "outputs": [
    {
     "ename": "NameError",
     "evalue": "name 'bnb' is not defined",
     "output_type": "error",
     "traceback": [
      "\u001b[1;31m---------------------------------------------------------------------------\u001b[0m",
      "\u001b[1;31mNameError\u001b[0m                                 Traceback (most recent call last)",
      "\u001b[1;32m<ipython-input-90-ee354185c4d5>\u001b[0m in \u001b[0;36m<module>\u001b[1;34m\u001b[0m\n\u001b[0;32m      1\u001b[0m \u001b[0mmodel\u001b[0m\u001b[1;33m.\u001b[0m\u001b[0mtrain\u001b[0m\u001b[1;33m(\u001b[0m\u001b[1;33m)\u001b[0m\u001b[1;33m\u001b[0m\u001b[1;33m\u001b[0m\u001b[0m\n\u001b[1;32m----> 2\u001b[1;33m \u001b[0moptimizer\u001b[0m \u001b[1;33m=\u001b[0m \u001b[0mbnb\u001b[0m\u001b[1;33m.\u001b[0m\u001b[0moptim\u001b[0m\u001b[1;33m.\u001b[0m\u001b[0mAdam8bit\u001b[0m\u001b[1;33m(\u001b[0m\u001b[0mmodel\u001b[0m\u001b[1;33m.\u001b[0m\u001b[0mparameters\u001b[0m\u001b[1;33m(\u001b[0m\u001b[1;33m)\u001b[0m\u001b[1;33m,\u001b[0m \u001b[0mlr\u001b[0m\u001b[1;33m=\u001b[0m\u001b[0margs\u001b[0m\u001b[1;33m.\u001b[0m\u001b[0mlr\u001b[0m\u001b[1;33m)\u001b[0m\u001b[1;33m\u001b[0m\u001b[1;33m\u001b[0m\u001b[0m\n\u001b[0m\u001b[0;32m      3\u001b[0m \u001b[1;33m\u001b[0m\u001b[0m\n\u001b[0;32m      4\u001b[0m scheduler = torch.optim.lr_scheduler.OneCycleLR(\n\u001b[0;32m      5\u001b[0m     \u001b[0moptimizer\u001b[0m\u001b[1;33m,\u001b[0m \u001b[0mmax_lr\u001b[0m\u001b[1;33m=\u001b[0m\u001b[0margs\u001b[0m\u001b[1;33m.\u001b[0m\u001b[0mlr\u001b[0m\u001b[1;33m,\u001b[0m \u001b[0mfinal_div_factor\u001b[0m\u001b[1;33m=\u001b[0m\u001b[1;36m500\u001b[0m\u001b[1;33m,\u001b[0m\u001b[1;33m\u001b[0m\u001b[1;33m\u001b[0m\u001b[0m\n",
      "\u001b[1;31mNameError\u001b[0m: name 'bnb' is not defined"
     ]
    }
   ],
   "source": [
    "model.train()\n",
    "optimizer = bnb.optim.Adam8bit(model.parameters(), lr=args.lr)\n",
    "\n",
    "scheduler = torch.optim.lr_scheduler.OneCycleLR(\n",
    "    optimizer, max_lr=args.lr, final_div_factor=500, \n",
    "    steps_per_epoch=len(train_dataloader), epochs=args.epochs\n",
    ")"
   ]
  },
  {
   "cell_type": "code",
   "execution_count": null,
   "metadata": {},
   "outputs": [],
   "source": [
    "def load_checkpoint(model, optimizer, losslogger, filename='checkpoint.pt'):\n",
    "    # Note: Input model & optimizer should be pre-defined.  This routine only updates their states.\n",
    "    start_epoch = 0\n",
    "    if os.path.isfile(filename):\n",
    "        print(\"=> loading checkpoint '{}'\".format(filename))\n",
    "        checkpoint = torch.load(filename)\n",
    "        start_epoch = checkpoint['epoch']\n",
    "        model.load_state_dict(checkpoint['state_dict'])\n",
    "        optimizer.load_state_dict(checkpoint['optimizer'])\n",
    "        losslogger = checkpoint['losslogger']\n",
    "        print(\"=> loaded checkpoint '{}' (epoch {})\"\n",
    "                  .format(filename, checkpoint['epoch']))\n",
    "    else:\n",
    "        print(\"=> no checkpoint found at '{}'\".format(filename))\n",
    "\n",
    "    return model, optimizer, start_epoch, losslogger"
   ]
  },
  {
   "cell_type": "code",
   "execution_count": 304,
   "metadata": {},
   "outputs": [],
   "source": [
    "def train(model, optimizer, scheduler, args: Args, train_dataloader, from_checkpoints = False):\n",
    "    \"\"\"\n",
    "      args - arguments for training\n",
    "\n",
    "      train_dataloader - VisualGenomeDataset\n",
    "      \"\"\"\n",
    "    loss_logs = []\n",
    "    try:\n",
    "        t_steps = len(train_dataloader)*args.epochs\n",
    "        progress = tqdm(total = t_steps, desc='🦌🦌🦌finetuning process🦌🦌🦌')\n",
    "    \n",
    "        save_counter = 0\n",
    "        start_epoch = 0\n",
    "        \n",
    "        if from_checkpoints:\n",
    "            model, optimizer, start_epoch, loss_logs = load_checkpoint(model, optimizer, loss_logs, filename=os.path.join(args.save_path,f\"rudolph_sberquad_state6.pt\"))\n",
    "        \n",
    "        for epoch in range(start_epoch, args.epochs):\n",
    "            \n",
    "            for encoded_left_text, images, encoded_right_text in train_dataloader: #, prompt, image, locs\n",
    "        \n",
    "                bs_text = encoded_left_text.shape[0]\n",
    "\n",
    "                images = images.to(device)\n",
    "\n",
    "                image_seq_length = args.image_tokens_per_dim ** 2\n",
    "                total_seq_length = args.l_text_seq_length + image_seq_length + args.r_text_seq_length\n",
    "                encoded_images = vae.get_codebook_indices(images, disable_gumbel_softmax=True)\n",
    "\n",
    "                attention_mask_text = get_attention_mask(bs_text, args.l_text_seq_length,\n",
    "                                                 args.image_tokens_per_dim, \n",
    "                                                 args.r_text_seq_length, args.device)\n",
    "\n",
    "                input_ids_text = torch.cat((encoded_left_text.to(args.device).int(),\n",
    "                                encoded_images.int(),\n",
    "                                encoded_right_text.to(args.device).int()), dim=1)\n",
    "                loss, loss_values = model.forward(input_ids_text, attention_mask_text, \n",
    "                                                                 lt_loss_weight=args.lt_loss_weight,\n",
    "                                                                 img_loss_weight=args.img_loss_weight, \n",
    "                                                                 rt_loss_weight=args.rt_loss_weight, return_loss=True)\n",
    "\n",
    "\n",
    "                loss.backward()\n",
    "\n",
    "                torch.nn.utils.clip_grad_norm_(model.parameters(),args.clip)\n",
    "                #optimizer.step()\n",
    "                #scheduler.step()\n",
    "                #optimizer.zero_grad()\n",
    "                if save_counter % args.save_every == 0:\n",
    "                    print(f'Saving checkpoint here {args.model_name}_rudolph_{save_counter}.pt')\n",
    "                    plt.plot(loss_logs)\n",
    "                    plt.show()\n",
    "                    state = {'epoch': epoch + 1, 'state_dict': model.state_dict(),\n",
    "                             'optimizer': optimizer.state_dict(), 'losslogger': loss_logs}\n",
    "                    torch.save(\n",
    "                        model.state_dict(),\n",
    "                        os.path.join(args.save_path,f\"{args.model_name}rudolph_{save_counter}.pt\")\n",
    "                    )\n",
    "                    torch.save(\n",
    "                        state,\n",
    "                        os.path.join(args.save_path,f\"{args.model_name}state_{save_counter}.pt\")\n",
    "                    )\n",
    "\n",
    "                loss_logs+=[loss.item()]\n",
    "                progress.update()\n",
    "                progress.set_postfix({\"loss\": loss.item()})\n",
    "\n",
    "            print(f'Complitly tuned and saved here  {args.model_name}__textqa_last.pt')\n",
    "            plt.plot(loss_logs)\n",
    "            plt.show()\n",
    "            torch.save(\n",
    "                model.state_dict(),\n",
    "                os.path.join(args.save_path,f\"{args.model_name}textqa_last.pt\")\n",
    "            )\n",
    "    except KeyboardInterrupt:\n",
    "\n",
    "\n",
    "        print(f'What for did you stopped? Please change model_path to /{args.save_path}/{args.model_name}_rudolf_Failed_train')\n",
    "        plt.plot(loss_logs)\n",
    "        plt.show()\n",
    "\n",
    "        torch.save(\n",
    "                model.state_dict(),\n",
    "                os.path.join(args.save_path,f\"{args.model_name}_rudolf_Failed_train.pt\")\n",
    "                )\n",
    "    except Exception as err:\n",
    "        print(f'Failed with {err}')"
   ]
  },
  {
   "cell_type": "code",
   "execution_count": 305,
   "metadata": {},
   "outputs": [],
   "source": [
    "optimizer = None\n",
    "scheduler = None"
   ]
  },
  {
   "cell_type": "code",
   "execution_count": 306,
   "metadata": {},
   "outputs": [
    {
     "data": {
      "application/vnd.jupyter.widget-view+json": {
       "model_id": "2fc918b7fc0844169cafa23fc8517c51",
       "version_major": 2,
       "version_minor": 0
      },
      "text/plain": [
       "🦌🦌🦌finetuning process🦌🦌🦌:   0%|          | 0/39915 [00:00<?, ?it/s]"
      ]
     },
     "metadata": {},
     "output_type": "display_data"
    },
    {
     "name": "stdout",
     "output_type": "stream",
     "text": [
      "Failed with CUDA out of memory. Tried to allocate 200.00 MiB (GPU 0; 8.00 GiB total capacity; 6.47 GiB already allocated; 0 bytes free; 6.70 GiB reserved in total by PyTorch) If reserved memory is >> allocated memory try setting max_split_size_mb to avoid fragmentation.  See documentation for Memory Management and PYTORCH_CUDA_ALLOC_CONF\n"
     ]
    }
   ],
   "source": [
    "model = freeze(\n",
    "    model=model,\n",
    "    freeze_emb=False,\n",
    "    freeze_ln=False,\n",
    "    freeze_attn=True,\n",
    "    freeze_ff=True,\n",
    "    freeze_other=False,\n",
    ")\n",
    "\n",
    "train(model, optimizer, scheduler, args, train_dataloader)"
   ]
  },
  {
   "cell_type": "code",
   "execution_count": null,
   "metadata": {},
   "outputs": [],
   "source": []
  }
 ],
 "metadata": {
  "kernelspec": {
   "display_name": "Python 3",
   "language": "python",
   "name": "python3"
  },
  "language_info": {
   "codemirror_mode": {
    "name": "ipython",
    "version": 3
   },
   "file_extension": ".py",
   "mimetype": "text/x-python",
   "name": "python",
   "nbconvert_exporter": "python",
   "pygments_lexer": "ipython3",
   "version": "3.7.6"
  }
 },
 "nbformat": 4,
 "nbformat_minor": 4
}
